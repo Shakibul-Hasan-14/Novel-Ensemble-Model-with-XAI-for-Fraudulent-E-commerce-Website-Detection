{
 "cells": [
  {
   "cell_type": "markdown",
   "id": "16374fc9",
   "metadata": {},
   "source": [
    "**Import Necessary Libraries**"
   ]
  },
  {
   "cell_type": "code",
   "execution_count": 1,
   "id": "e3b9dfc5",
   "metadata": {},
   "outputs": [],
   "source": [
    "import itertools\n",
    "import numpy as np\n",
    "import pandas as pd\n",
    "import matplotlib.pyplot as plt\n",
    "\n",
    "import torch\n",
    "import torch.nn as nn\n",
    "import torch.optim as optim\n",
    "\n",
    "from sklearn.svm import SVC\n",
    "from sklearn.tree import DecisionTreeClassifier\n",
    "from sklearn.linear_model import LogisticRegression\n",
    "from sklearn.model_selection import KFold, GridSearchCV\n",
    "from sklearn.metrics import roc_auc_score, confusion_matrix, f1_score, recall_score, precision_score, accuracy_score\n",
    "\n",
    "import lime\n",
    "from lime import lime_tabular\n",
    "from lime.lime_tabular import LimeTabularExplainer"
   ]
  },
  {
   "cell_type": "markdown",
   "id": "5fc51dca",
   "metadata": {},
   "source": [
    "**Load and Read Train Data**"
   ]
  },
  {
   "cell_type": "code",
   "execution_count": 2,
   "id": "f5b838a0",
   "metadata": {},
   "outputs": [],
   "source": [
    "path = \"C:/Users/shakib/Downloads/Train Data.csv\"\n",
    "train_data = pd.read_csv(path)"
   ]
  },
  {
   "cell_type": "markdown",
   "id": "9eb87320",
   "metadata": {},
   "source": [
    "**1. Extract Label and Features** <br>\n",
    "**2. Convert to Numpy Array**"
   ]
  },
  {
   "cell_type": "code",
   "execution_count": 3,
   "id": "b732c88a",
   "metadata": {},
   "outputs": [],
   "source": [
    "X = train_data.drop(columns=['Label'])\n",
    "y = train_data['Label']\n",
    "\n",
    "X = np.asarray(X)\n",
    "y = np.asarray(y)"
   ]
  },
  {
   "cell_type": "markdown",
   "id": "603675c1",
   "metadata": {},
   "source": [
    "**Define K-Fold Cross-Validation**"
   ]
  },
  {
   "cell_type": "code",
   "execution_count": 4,
   "id": "205093bb",
   "metadata": {},
   "outputs": [],
   "source": [
    "kfold = KFold(n_splits=5, shuffle=True, random_state=4)"
   ]
  },
  {
   "cell_type": "markdown",
   "id": "a37b9159",
   "metadata": {},
   "source": [
    "**Initialize Base and Meta Models**"
   ]
  },
  {
   "cell_type": "code",
   "execution_count": 5,
   "id": "e207b034",
   "metadata": {},
   "outputs": [],
   "source": [
    "DT = DecisionTreeClassifier()\n",
    "SVM = SVC(probability=True)\n",
    "\n",
    "class FNN(nn.Module):\n",
    "    def __init__(self, input_dim):\n",
    "        super(FNN, self).__init__()\n",
    "        self.fc1 = nn.Linear(input_dim, 64)\n",
    "        self.dropout1 = nn.Dropout(0.2)\n",
    "        self.fc2 = nn.Linear(64, 32)\n",
    "        self.dropout2 = nn.Dropout(0.1)\n",
    "        self.fc3 = nn.Linear(32, 1)\n",
    "\n",
    "    def forward(self, x):\n",
    "        x = torch.relu(self.fc1(x))\n",
    "        x = self.dropout1(x)\n",
    "        x = torch.relu(self.fc2(x))\n",
    "        x = self.dropout2(x)\n",
    "        x = torch.sigmoid(self.fc3(x))\n",
    "        return x\n",
    "\n",
    "meta_model = LogisticRegression(C=0.01, solver='liblinear')"
   ]
  },
  {
   "cell_type": "markdown",
   "id": "a081f8ae",
   "metadata": {},
   "source": [
    "**Define Hyperparameter Grids for GridSearchCV**"
   ]
  },
  {
   "cell_type": "code",
   "execution_count": 6,
   "id": "51103c0e",
   "metadata": {},
   "outputs": [],
   "source": [
    "dt_param_grid = {\n",
    "    'max_depth': [None, 4, 5, 6],\n",
    "    'min_samples_split': [2, 5, 10]\n",
    "}\n",
    "\n",
    "svm_param_grid = {\n",
    "    'C': [0.1, 1, 10],\n",
    "    'kernel': ['linear', 'rbf']\n",
    "}"
   ]
  },
  {
   "cell_type": "markdown",
   "id": "15e7ac49",
   "metadata": {},
   "source": [
    "**Train and Predict**"
   ]
  },
  {
   "cell_type": "code",
   "execution_count": 7,
   "id": "610dcc19",
   "metadata": {},
   "outputs": [],
   "source": [
    "# Track and extract base model performances and features\n",
    "meta_features = []\n",
    "true_labels = []\n",
    "SVM_scores = []\n",
    "FNN_scores = []\n",
    "DT_scores = []\n",
    "\n",
    "# K-fold cross-validation loop\n",
    "for train_index, test_index in kfold.split(X):\n",
    "    X_train, X_test = X[train_index], X[test_index]\n",
    "    y_train, y_test = y[train_index], y[test_index]\n",
    "\n",
    "    # Train and get predictions from Decision Tree with GridSearchCV\n",
    "    dt_grid_search = GridSearchCV(estimator=DT, param_grid=dt_param_grid, scoring='roc_auc', cv=5, verbose=0, n_jobs=-1)\n",
    "    dt_grid_search.fit(X_train, y_train)\n",
    "    decision_tree_pred = dt_grid_search.predict_proba(X_test)[:, 1]\n",
    "    dt_roc_auc = roc_auc_score(y_test, decision_tree_pred)\n",
    "    DT_scores.append(dt_roc_auc)\n",
    "\n",
    "    # Train and get predictions from SVM with GridSearchCV\n",
    "    svm_grid_search = GridSearchCV(estimator=SVM, param_grid=svm_param_grid, scoring='roc_auc', cv=5, verbose=0, n_jobs=-1)\n",
    "    svm_grid_search.fit(X_train, y_train)\n",
    "    svm_pred = svm_grid_search.predict_proba(X_test)[:, 1]\n",
    "    svm_roc_auc = roc_auc_score(y_test, svm_pred)\n",
    "    SVM_scores.append(svm_roc_auc)\n",
    "\n",
    "    # Train and get predictions from Feedforward Neural Network with early stopping\n",
    "    X_train_tensor = torch.tensor(X_train, dtype=torch.float32)\n",
    "    y_train_tensor = torch.tensor(y_train, dtype=torch.float32).view(-1, 1)\n",
    "    X_test_tensor = torch.tensor(X_test, dtype=torch.float32)\n",
    "\n",
    "    fnn = FNN(input_dim=X.shape[1])\n",
    "    criterion = nn.BCELoss()\n",
    "    optimizer = optim.Adam(fnn.parameters(), lr=0.01)\n",
    "\n",
    "    # Early stopping parameters\n",
    "    early_stop_patience = 10\n",
    "    best_val_loss = float('inf')\n",
    "    patience_counter = 0\n",
    "    best_model_state = None  # Variable to store the best model state\n",
    "\n",
    "    for epoch in range(60):\n",
    "        # Training phase\n",
    "        fnn.train()\n",
    "        optimizer.zero_grad()\n",
    "        outputs = fnn(X_train_tensor)\n",
    "        loss = criterion(outputs, y_train_tensor)\n",
    "        loss.backward()\n",
    "        optimizer.step()\n",
    "\n",
    "        # Calculate validation loss\n",
    "        fnn.eval()\n",
    "        with torch.no_grad():\n",
    "            val_outputs = fnn(X_test_tensor)\n",
    "            val_loss = criterion(val_outputs, torch.tensor(y_test, dtype=torch.float32).view(-1, 1))\n",
    "\n",
    "        # Early stopping check\n",
    "        if val_loss < best_val_loss:\n",
    "            best_val_loss = val_loss\n",
    "            patience_counter = 0  # Reset counter if validation loss improves\n",
    "            best_model_state = fnn.state_dict()  # Save the model state if it improves\n",
    "        else:\n",
    "            patience_counter += 1  # Increment counter if no improvement\n",
    "\n",
    "        if patience_counter >= early_stop_patience:\n",
    "            fnn.load_state_dict(best_model_state)  # Load the best model if early stopped\n",
    "            break\n",
    "\n",
    "    # Make predictions with the trained Feedforward Neural Network model\n",
    "    fnn.eval()\n",
    "    with torch.no_grad():\n",
    "        nn_pred = fnn(X_test_tensor).numpy().flatten()\n",
    "    nn_roc_auc = roc_auc_score(y_test, nn_pred)\n",
    "    FNN_scores.append(nn_roc_auc)\n",
    "\n",
    "    # Aggregate predictions for meta model\n",
    "    meta_features.append(np.column_stack((decision_tree_pred, svm_pred, nn_pred)))\n",
    "    true_labels.append(y_test)"
   ]
  },
  {
   "cell_type": "markdown",
   "id": "034311d4",
   "metadata": {},
   "source": [
    "**Concatenate Meta Features and True Labels**"
   ]
  },
  {
   "cell_type": "code",
   "execution_count": 8,
   "id": "30c658e3",
   "metadata": {},
   "outputs": [],
   "source": [
    "meta_features = np.vstack(meta_features)\n",
    "true_labels = np.concatenate(true_labels)"
   ]
  },
  {
   "cell_type": "markdown",
   "id": "e5f92cfe",
   "metadata": {},
   "source": [
    "**Train Meta Model on Meta Features**"
   ]
  },
  {
   "cell_type": "code",
   "execution_count": 9,
   "id": "09fab9de",
   "metadata": {},
   "outputs": [
    {
     "data": {
      "text/html": [
       "<style>#sk-container-id-1 {color: black;}#sk-container-id-1 pre{padding: 0;}#sk-container-id-1 div.sk-toggleable {background-color: white;}#sk-container-id-1 label.sk-toggleable__label {cursor: pointer;display: block;width: 100%;margin-bottom: 0;padding: 0.3em;box-sizing: border-box;text-align: center;}#sk-container-id-1 label.sk-toggleable__label-arrow:before {content: \"▸\";float: left;margin-right: 0.25em;color: #696969;}#sk-container-id-1 label.sk-toggleable__label-arrow:hover:before {color: black;}#sk-container-id-1 div.sk-estimator:hover label.sk-toggleable__label-arrow:before {color: black;}#sk-container-id-1 div.sk-toggleable__content {max-height: 0;max-width: 0;overflow: hidden;text-align: left;background-color: #f0f8ff;}#sk-container-id-1 div.sk-toggleable__content pre {margin: 0.2em;color: black;border-radius: 0.25em;background-color: #f0f8ff;}#sk-container-id-1 input.sk-toggleable__control:checked~div.sk-toggleable__content {max-height: 200px;max-width: 100%;overflow: auto;}#sk-container-id-1 input.sk-toggleable__control:checked~label.sk-toggleable__label-arrow:before {content: \"▾\";}#sk-container-id-1 div.sk-estimator input.sk-toggleable__control:checked~label.sk-toggleable__label {background-color: #d4ebff;}#sk-container-id-1 div.sk-label input.sk-toggleable__control:checked~label.sk-toggleable__label {background-color: #d4ebff;}#sk-container-id-1 input.sk-hidden--visually {border: 0;clip: rect(1px 1px 1px 1px);clip: rect(1px, 1px, 1px, 1px);height: 1px;margin: -1px;overflow: hidden;padding: 0;position: absolute;width: 1px;}#sk-container-id-1 div.sk-estimator {font-family: monospace;background-color: #f0f8ff;border: 1px dotted black;border-radius: 0.25em;box-sizing: border-box;margin-bottom: 0.5em;}#sk-container-id-1 div.sk-estimator:hover {background-color: #d4ebff;}#sk-container-id-1 div.sk-parallel-item::after {content: \"\";width: 100%;border-bottom: 1px solid gray;flex-grow: 1;}#sk-container-id-1 div.sk-label:hover label.sk-toggleable__label {background-color: #d4ebff;}#sk-container-id-1 div.sk-serial::before {content: \"\";position: absolute;border-left: 1px solid gray;box-sizing: border-box;top: 0;bottom: 0;left: 50%;z-index: 0;}#sk-container-id-1 div.sk-serial {display: flex;flex-direction: column;align-items: center;background-color: white;padding-right: 0.2em;padding-left: 0.2em;position: relative;}#sk-container-id-1 div.sk-item {position: relative;z-index: 1;}#sk-container-id-1 div.sk-parallel {display: flex;align-items: stretch;justify-content: center;background-color: white;position: relative;}#sk-container-id-1 div.sk-item::before, #sk-container-id-1 div.sk-parallel-item::before {content: \"\";position: absolute;border-left: 1px solid gray;box-sizing: border-box;top: 0;bottom: 0;left: 50%;z-index: -1;}#sk-container-id-1 div.sk-parallel-item {display: flex;flex-direction: column;z-index: 1;position: relative;background-color: white;}#sk-container-id-1 div.sk-parallel-item:first-child::after {align-self: flex-end;width: 50%;}#sk-container-id-1 div.sk-parallel-item:last-child::after {align-self: flex-start;width: 50%;}#sk-container-id-1 div.sk-parallel-item:only-child::after {width: 0;}#sk-container-id-1 div.sk-dashed-wrapped {border: 1px dashed gray;margin: 0 0.4em 0.5em 0.4em;box-sizing: border-box;padding-bottom: 0.4em;background-color: white;}#sk-container-id-1 div.sk-label label {font-family: monospace;font-weight: bold;display: inline-block;line-height: 1.2em;}#sk-container-id-1 div.sk-label-container {text-align: center;}#sk-container-id-1 div.sk-container {/* jupyter's `normalize.less` sets `[hidden] { display: none; }` but bootstrap.min.css set `[hidden] { display: none !important; }` so we also need the `!important` here to be able to override the default hidden behavior on the sphinx rendered scikit-learn.org. See: https://github.com/scikit-learn/scikit-learn/issues/21755 */display: inline-block !important;position: relative;}#sk-container-id-1 div.sk-text-repr-fallback {display: none;}</style><div id=\"sk-container-id-1\" class=\"sk-top-container\"><div class=\"sk-text-repr-fallback\"><pre>LogisticRegression(C=0.01, solver=&#x27;liblinear&#x27;)</pre><b>In a Jupyter environment, please rerun this cell to show the HTML representation or trust the notebook. <br />On GitHub, the HTML representation is unable to render, please try loading this page with nbviewer.org.</b></div><div class=\"sk-container\" hidden><div class=\"sk-item\"><div class=\"sk-estimator sk-toggleable\"><input class=\"sk-toggleable__control sk-hidden--visually\" id=\"sk-estimator-id-1\" type=\"checkbox\" checked><label for=\"sk-estimator-id-1\" class=\"sk-toggleable__label sk-toggleable__label-arrow\">LogisticRegression</label><div class=\"sk-toggleable__content\"><pre>LogisticRegression(C=0.01, solver=&#x27;liblinear&#x27;)</pre></div></div></div></div></div>"
      ],
      "text/plain": [
       "LogisticRegression(C=0.01, solver='liblinear')"
      ]
     },
     "execution_count": 9,
     "metadata": {},
     "output_type": "execute_result"
    }
   ],
   "source": [
    "meta_model.fit(meta_features, true_labels)"
   ]
  },
  {
   "cell_type": "markdown",
   "id": "05276298",
   "metadata": {},
   "source": [
    "**Get Predictions from Meta Model**"
   ]
  },
  {
   "cell_type": "code",
   "execution_count": 10,
   "id": "9f72c257",
   "metadata": {},
   "outputs": [],
   "source": [
    "meta_predictions = meta_model.predict(meta_features)"
   ]
  },
  {
   "cell_type": "markdown",
   "id": "317e6e11",
   "metadata": {},
   "source": [
    "**Convert Probabilities to Binary Predictions**"
   ]
  },
  {
   "cell_type": "code",
   "execution_count": 11,
   "id": "71dab396",
   "metadata": {},
   "outputs": [],
   "source": [
    "meta_labels = (meta_predictions >= 0.5).astype(int)"
   ]
  },
  {
   "cell_type": "markdown",
   "id": "ca92a5ab",
   "metadata": {},
   "source": [
    "**Define Confusion Matrix**"
   ]
  },
  {
   "cell_type": "code",
   "execution_count": 12,
   "id": "b4b1f5c4",
   "metadata": {},
   "outputs": [],
   "source": [
    "def plot_confusion_matrix(cm, classes, normalize=False, title=' ', cmap=plt.cm.Blues):\n",
    "\n",
    "    plt.imshow(cm, interpolation='nearest', cmap=cmap)\n",
    "    plt.title(title)\n",
    "    plt.colorbar()\n",
    "    tick_marks = np.arange(len(classes))\n",
    "    plt.xticks(tick_marks, classes, rotation=45)\n",
    "    plt.yticks(tick_marks, classes)\n",
    "\n",
    "    fmt = '.2f' if normalize else 'd'\n",
    "    thresh = cm.max() / 2.\n",
    "    for i, j in itertools.product(range(cm.shape[0]), range(cm.shape[1])):\n",
    "        plt.text(j, i, format(cm[i, j], fmt),\n",
    "                 horizontalalignment=\"center\",\n",
    "                 color=\"white\" if cm[i, j] > thresh else \"black\")\n",
    "\n",
    "    plt.tight_layout()\n",
    "    plt.ylabel('True Label')\n",
    "    plt.xlabel('Predicted Label')"
   ]
  },
  {
   "cell_type": "markdown",
   "id": "16eae548",
   "metadata": {},
   "source": [
    "**Evaluate Ensemble Model**"
   ]
  },
  {
   "cell_type": "code",
   "execution_count": 13,
   "id": "ed597fae",
   "metadata": {},
   "outputs": [],
   "source": [
    "roc_auc = roc_auc_score(true_labels, meta_predictions)\n",
    "conf_matrix = confusion_matrix(true_labels, meta_labels)\n",
    "f1 = f1_score(true_labels, meta_labels)\n",
    "recall = recall_score(true_labels, meta_labels)\n",
    "precision = precision_score(true_labels, meta_labels)\n",
    "accuracy = accuracy_score(true_labels, meta_labels)"
   ]
  },
  {
   "cell_type": "markdown",
   "id": "b074972d",
   "metadata": {},
   "source": [
    "**Load and Read Unseen Data**"
   ]
  },
  {
   "cell_type": "code",
   "execution_count": 14,
   "id": "c80cd6e2",
   "metadata": {},
   "outputs": [],
   "source": [
    "path2 = \"C:/Users/shakib/Downloads/Unseen Data.csv\"\n",
    "unseen_data = pd.read_csv(path2)"
   ]
  },
  {
   "cell_type": "markdown",
   "id": "beca3434",
   "metadata": {},
   "source": [
    "**Extract Label and Features from Unseen Data**"
   ]
  },
  {
   "cell_type": "code",
   "execution_count": 15,
   "id": "4f0700ae",
   "metadata": {},
   "outputs": [],
   "source": [
    "X_unseen = unseen_data.drop(columns=['Label']).values \n",
    "true_labels_unseen = unseen_data['Label'].values\n",
    "\n",
    "# For Neural Network\n",
    "X_unseen_tensor = torch.tensor(X_unseen, dtype=torch.float32)"
   ]
  },
  {
   "cell_type": "markdown",
   "id": "572e5bba",
   "metadata": {},
   "source": [
    "**Generate Predictions from Trained Base Models on Unseen Data**"
   ]
  },
  {
   "cell_type": "code",
   "execution_count": 16,
   "id": "7b435a37",
   "metadata": {},
   "outputs": [],
   "source": [
    "decision_tree_pred_unseen = dt_grid_search.predict_proba(X_unseen)[:, 1]\n",
    "svm_pred_unseen = svm_grid_search.predict_proba(X_unseen)[:, 1]\n",
    "\n",
    "fnn.eval()\n",
    "with torch.no_grad():\n",
    "    nn_pred_unseen = fnn(X_unseen_tensor).numpy().flatten()"
   ]
  },
  {
   "cell_type": "markdown",
   "id": "4fb1ce64",
   "metadata": {},
   "source": [
    "**Aggregate Predictions for Meta Features**"
   ]
  },
  {
   "cell_type": "code",
   "execution_count": 17,
   "id": "1dca7907",
   "metadata": {},
   "outputs": [],
   "source": [
    "meta_features_unseen = np.column_stack((decision_tree_pred_unseen, svm_pred_unseen, nn_pred_unseen))"
   ]
  },
  {
   "cell_type": "markdown",
   "id": "0346cd1b",
   "metadata": {},
   "source": [
    "**Get Predictions from Meta Models for Unseen Data**"
   ]
  },
  {
   "cell_type": "code",
   "execution_count": 18,
   "id": "7c008682",
   "metadata": {},
   "outputs": [],
   "source": [
    "meta_predictions_unseen = meta_model.predict(meta_features_unseen)"
   ]
  },
  {
   "cell_type": "markdown",
   "id": "a88b91a6",
   "metadata": {},
   "source": [
    "**Convert Probabilities to Binary Predictions**"
   ]
  },
  {
   "cell_type": "code",
   "execution_count": 19,
   "id": "684a4476",
   "metadata": {},
   "outputs": [],
   "source": [
    "meta_labels_unseen = (meta_predictions_unseen >= 0.5).astype(int)"
   ]
  },
  {
   "cell_type": "markdown",
   "id": "3e538eb6",
   "metadata": {},
   "source": [
    "**Evaluate Ensemble Model for Unseen Data**"
   ]
  },
  {
   "cell_type": "code",
   "execution_count": 20,
   "id": "df713a38",
   "metadata": {},
   "outputs": [],
   "source": [
    "roc_auc_unseen = roc_auc_score(true_labels_unseen, meta_predictions_unseen)\n",
    "conf_matrix_unseen = confusion_matrix(true_labels_unseen, meta_labels_unseen)\n",
    "f1_unseen = f1_score(true_labels_unseen, meta_labels_unseen)\n",
    "recall_unseen = recall_score(true_labels_unseen, meta_labels_unseen)\n",
    "precision_unseen = precision_score(true_labels_unseen, meta_labels_unseen)\n",
    "accuracy_unseen = accuracy_score(true_labels_unseen, meta_labels_unseen)"
   ]
  },
  {
   "cell_type": "markdown",
   "id": "5741e309",
   "metadata": {},
   "source": [
    "**Results Table**"
   ]
  },
  {
   "cell_type": "code",
   "execution_count": 21,
   "id": "ee164d6a",
   "metadata": {},
   "outputs": [
    {
     "data": {
      "text/html": [
       "<div>\n",
       "<style scoped>\n",
       "    .dataframe tbody tr th:only-of-type {\n",
       "        vertical-align: middle;\n",
       "    }\n",
       "\n",
       "    .dataframe tbody tr th {\n",
       "        vertical-align: top;\n",
       "    }\n",
       "\n",
       "    .dataframe thead th {\n",
       "        text-align: right;\n",
       "    }\n",
       "</style>\n",
       "<table border=\"1\" class=\"dataframe\">\n",
       "  <thead>\n",
       "    <tr style=\"text-align: right;\">\n",
       "      <th></th>\n",
       "      <th>Evaluation Metrics</th>\n",
       "      <th>Train Data</th>\n",
       "      <th>Unseen Data</th>\n",
       "    </tr>\n",
       "  </thead>\n",
       "  <tbody>\n",
       "    <tr>\n",
       "      <th>0</th>\n",
       "      <td>ROC-AUC Score</td>\n",
       "      <td>92.74%</td>\n",
       "      <td>92.24%</td>\n",
       "    </tr>\n",
       "    <tr>\n",
       "      <th>1</th>\n",
       "      <td>F1 Score</td>\n",
       "      <td>93.12%</td>\n",
       "      <td>92.20%</td>\n",
       "    </tr>\n",
       "    <tr>\n",
       "      <th>2</th>\n",
       "      <td>Recall</td>\n",
       "      <td>95.30%</td>\n",
       "      <td>95.59%</td>\n",
       "    </tr>\n",
       "    <tr>\n",
       "      <th>3</th>\n",
       "      <td>Precision</td>\n",
       "      <td>91.03%</td>\n",
       "      <td>89.04%</td>\n",
       "    </tr>\n",
       "    <tr>\n",
       "      <th>4</th>\n",
       "      <td>Accuracy</td>\n",
       "      <td>92.80%</td>\n",
       "      <td>92.14%</td>\n",
       "    </tr>\n",
       "  </tbody>\n",
       "</table>\n",
       "</div>"
      ],
      "text/plain": [
       "  Evaluation Metrics Train Data Unseen Data\n",
       "0      ROC-AUC Score     92.74%      92.24%\n",
       "1           F1 Score     93.12%      92.20%\n",
       "2             Recall     95.30%      95.59%\n",
       "3          Precision     91.03%      89.04%\n",
       "4           Accuracy     92.80%      92.14%"
      ]
     },
     "execution_count": 21,
     "metadata": {},
     "output_type": "execute_result"
    }
   ],
   "source": [
    "data = {\n",
    "    'Evaluation Metrics': [\n",
    "        'ROC-AUC Score', \n",
    "        'F1 Score', \n",
    "        'Recall',\n",
    "        'Precision',\n",
    "        'Accuracy'\n",
    "    ],\n",
    "    'Train Data': [\n",
    "        f\"{roc_auc * 100:.2f}%\", \n",
    "        f\"{f1 * 100:.2f}%\", \n",
    "        f\"{recall * 100:.2f}%\",\n",
    "        f\"{precision * 100:.2f}%\",\n",
    "        f\"{accuracy * 100:.2f}%\"\n",
    "    ],\n",
    "    'Unseen Data': [\n",
    "        f\"{roc_auc_unseen * 100:.2f}%\", \n",
    "        f\"{f1_unseen * 100:.2f}%\", \n",
    "        f\"{recall_unseen * 100:.2f}%\",\n",
    "        f\"{precision_unseen * 100:.2f}%\",\n",
    "        f\"{accuracy_unseen * 100:.2f}%\"\n",
    "    ]\n",
    "}\n",
    "\n",
    "df = pd.DataFrame(data)\n",
    "df"
   ]
  },
  {
   "cell_type": "markdown",
   "id": "161646dc",
   "metadata": {},
   "source": [
    "**Confusion Matrix**"
   ]
  },
  {
   "cell_type": "code",
   "execution_count": 22,
   "id": "dee6c841",
   "metadata": {},
   "outputs": [
    {
     "data": {
      "image/png": "[encoded data removed]",
      "text/plain": [
       "<Figure size 640x480 with 2 Axes>"
      ]
     },
     "metadata": {},
     "output_type": "display_data"
    },
    {
     "data": {
      "image/png": "[encoded data removed]",
      "text/plain": [
       "<Figure size 640x480 with 2 Axes>"
      ]
     },
     "metadata": {},
     "output_type": "display_data"
    }
   ],
   "source": [
    "plt.figure()\n",
    "plot_confusion_matrix(conf_matrix, classes=['Fraud','Legitimate'], normalize= False, title='Confusion Matrix for Train Data')\n",
    "\n",
    "plt.figure()\n",
    "plot_confusion_matrix(conf_matrix_unseen, classes=['Fraud','Legitimate'], normalize= False, title='Confusion Matrix for Unseen Data')"
   ]
  },
  {
   "cell_type": "markdown",
   "id": "93fa1602",
   "metadata": {},
   "source": [
    "**Probability Predictions from Feedforward Neural Network**"
   ]
  },
  {
   "cell_type": "code",
   "execution_count": 23,
   "id": "634c39a0",
   "metadata": {},
   "outputs": [],
   "source": [
    "def fnn_predict_proba(X):\n",
    "    X_tensor = torch.tensor(X, dtype=torch.float32)\n",
    "    with torch.no_grad():\n",
    "        probs = fnn(X_tensor).numpy()\n",
    "        return np.column_stack([1 - probs, probs])"
   ]
  },
  {
   "cell_type": "markdown",
   "id": "200d4186",
   "metadata": {},
   "source": [
    "**Generate LIME Explainers for Each Base Model**"
   ]
  },
  {
   "cell_type": "code",
   "execution_count": 24,
   "id": "0f65f115",
   "metadata": {},
   "outputs": [],
   "source": [
    "import lime\n",
    "from lime import lime_tabular\n",
    "from lime.lime_tabular import LimeTabularExplainer\n",
    "\n",
    "feature_names = unseen_data.drop(columns=['Label']).columns.tolist()\n",
    "explainer_dt = LimeTabularExplainer(X_train, feature_names=feature_names, \n",
    "                                    class_names=['Legitimate', 'Fraud'], mode='classification')\n",
    "explainer_svm = LimeTabularExplainer(X_train, feature_names=feature_names, \n",
    "                                     class_names=['Legitimate', 'Fraud'], mode='classification')\n",
    "explainer_nn = LimeTabularExplainer(X_train, feature_names=feature_names, \n",
    "                                    class_names=['Legitimate', 'Fraud'], mode='classification')"
   ]
  },
  {
   "cell_type": "markdown",
   "id": "5d67d48b",
   "metadata": {},
   "source": [
    "**Generate Simplified Customer-Readable Explanation**"
   ]
  },
  {
   "cell_type": "code",
   "execution_count": 25,
   "id": "2836e02b",
   "metadata": {},
   "outputs": [],
   "source": [
    "def generate_customer_readable_explanation(attributes_dt, attributes_svm, attributes_nn):\n",
    "    review_issues = any(\"reviews\" in attr for attr in (attributes_dt + attributes_svm + attributes_nn))\n",
    "    contact_issues = any(\"free contact emails\" in attr for attr in (attributes_dt + attributes_svm + attributes_nn))\n",
    "    payment_issues = any(\"payment\" in attr for attr in (attributes_dt + attributes_svm + attributes_nn))\n",
    "    domain_issues = any(\"domain\" in attr for attr in (attributes_dt + attributes_svm + attributes_nn))\n",
    "    ssl_issues = any(\"SSL certificate\" in attr for attr in (attributes_dt + attributes_svm + attributes_nn))\n",
    "\n",
    "    explanation = \"Key factors include \"\n",
    "    explanation += \"a lack of verified customer reviews, \" if review_issues else \"\"\n",
    "    explanation += \"absence of reliable contact information, \" if contact_issues else \"\"\n",
    "    explanation += \"missing or uncommon payment options, \" if payment_issues else \"\"\n",
    "    explanation += \"indicators of a recently registered or suspicious domain, \" if domain_issues else \"\"\n",
    "    explanation += \"and SSL certificate issues, \" if ssl_issues else \"\"\n",
    "    \n",
    "    explanation = explanation.strip(\", \") + \".\"\n",
    "    return explanation"
   ]
  },
  {
   "cell_type": "markdown",
   "id": "53a0a9dd",
   "metadata": {},
   "source": [
    "**Refined Output for Flagged Fraud Instances**"
   ]
  },
  {
   "cell_type": "code",
   "execution_count": 26,
   "id": "7e8891e6",
   "metadata": {
    "scrolled": true
   },
   "outputs": [
    {
     "data": {
      "text/html": [
       "<div>\n",
       "<style scoped>\n",
       "    .dataframe tbody tr th:only-of-type {\n",
       "        vertical-align: middle;\n",
       "    }\n",
       "\n",
       "    .dataframe tbody tr th {\n",
       "        vertical-align: top;\n",
       "    }\n",
       "\n",
       "    .dataframe thead th {\n",
       "        text-align: right;\n",
       "    }\n",
       "</style>\n",
       "<table border=\"1\" class=\"dataframe\">\n",
       "  <thead>\n",
       "    <tr style=\"text-align: right;\">\n",
       "      <th></th>\n",
       "      <th>Instance</th>\n",
       "      <th>Simplified Explanation</th>\n",
       "    </tr>\n",
       "  </thead>\n",
       "  <tbody>\n",
       "    <tr>\n",
       "      <th>0</th>\n",
       "      <td>1</td>\n",
       "      <td>Key factors include a lack of verified customer reviews, missing or uncommon payment options, indicators of a recently registered or suspicious domain.</td>\n",
       "    </tr>\n",
       "    <tr>\n",
       "      <th>1</th>\n",
       "      <td>7</td>\n",
       "      <td>Key factors include a lack of verified customer reviews, absence of reliable contact information, missing or uncommon payment options, indicators of a recently registered or suspicious domain, and SSL certificate issues.</td>\n",
       "    </tr>\n",
       "    <tr>\n",
       "      <th>2</th>\n",
       "      <td>10</td>\n",
       "      <td>Key factors include a lack of verified customer reviews, absence of reliable contact information, missing or uncommon payment options, indicators of a recently registered or suspicious domain.</td>\n",
       "    </tr>\n",
       "    <tr>\n",
       "      <th>3</th>\n",
       "      <td>11</td>\n",
       "      <td>Key factors include a lack of verified customer reviews, absence of reliable contact information, missing or uncommon payment options, indicators of a recently registered or suspicious domain, and SSL certificate issues.</td>\n",
       "    </tr>\n",
       "    <tr>\n",
       "      <th>4</th>\n",
       "      <td>12</td>\n",
       "      <td>Key factors include a lack of verified customer reviews, absence of reliable contact information, missing or uncommon payment options, indicators of a recently registered or suspicious domain, and SSL certificate issues.</td>\n",
       "    </tr>\n",
       "  </tbody>\n",
       "</table>\n",
       "</div>"
      ],
      "text/plain": [
       "   Instance  \\\n",
       "0         1   \n",
       "1         7   \n",
       "2        10   \n",
       "3        11   \n",
       "4        12   \n",
       "\n",
       "                                                                                                                                                                                                         Simplified Explanation  \n",
       "0                                                                       Key factors include a lack of verified customer reviews, missing or uncommon payment options, indicators of a recently registered or suspicious domain.  \n",
       "1  Key factors include a lack of verified customer reviews, absence of reliable contact information, missing or uncommon payment options, indicators of a recently registered or suspicious domain, and SSL certificate issues.  \n",
       "2                              Key factors include a lack of verified customer reviews, absence of reliable contact information, missing or uncommon payment options, indicators of a recently registered or suspicious domain.  \n",
       "3  Key factors include a lack of verified customer reviews, absence of reliable contact information, missing or uncommon payment options, indicators of a recently registered or suspicious domain, and SSL certificate issues.  \n",
       "4  Key factors include a lack of verified customer reviews, absence of reliable contact information, missing or uncommon payment options, indicators of a recently registered or suspicious domain, and SSL certificate issues.  "
      ]
     },
     "execution_count": 26,
     "metadata": {},
     "output_type": "execute_result"
    }
   ],
   "source": [
    "results = []\n",
    "\n",
    "for i in range(len(X_unseen)):\n",
    "    if meta_labels_unseen[i] == 1:  # Check if flagged as fraud\n",
    "        instance = X_unseen[i]\n",
    "\n",
    "        # Generate LIME explanations for each model\n",
    "        exp_dt = explainer_dt.explain_instance(instance, dt_grid_search.predict_proba)\n",
    "        attributes_dt = [feature for feature, weight in exp_dt.as_list() if weight > 0]\n",
    "\n",
    "        exp_svm = explainer_svm.explain_instance(instance, svm_grid_search.predict_proba)\n",
    "        attributes_svm = [feature for feature, weight in exp_svm.as_list() if weight > 0]\n",
    "\n",
    "        exp_nn = explainer_nn.explain_instance(instance, fnn_predict_proba)  # Use the new function\n",
    "        attributes_nn = [feature for feature, weight in exp_nn.as_list() if weight > 0]\n",
    "\n",
    "        # Generate a simplified explanation\n",
    "        explanation = generate_customer_readable_explanation(attributes_dt, attributes_svm, attributes_nn)\n",
    "\n",
    "        # Append the result to the list\n",
    "        results.append({\n",
    "            \"Instance\": i + 1,\n",
    "            \"Simplified Explanation\": explanation\n",
    "        })\n",
    "\n",
    "results_df = pd.DataFrame(results)\n",
    "pd.set_option('display.max_colwidth', None)\n",
    "results_df.head(5)"
   ]
  }
 ],
 "metadata": {
  "celltoolbar": "Raw Cell Format",
  "kernelspec": {
   "display_name": "cvpr tf2.4 py3.8",
   "language": "python",
   "name": "cvpr"
  },
  "language_info": {
   "codemirror_mode": {
    "name": "ipython",
    "version": 3
   },
   "file_extension": ".py",
   "mimetype": "text/x-python",
   "name": "python",
   "nbconvert_exporter": "python",
   "pygments_lexer": "ipython3",
   "version": "3.8.15"
  }
 },
 "nbformat": 4,
 "nbformat_minor": 5
}
