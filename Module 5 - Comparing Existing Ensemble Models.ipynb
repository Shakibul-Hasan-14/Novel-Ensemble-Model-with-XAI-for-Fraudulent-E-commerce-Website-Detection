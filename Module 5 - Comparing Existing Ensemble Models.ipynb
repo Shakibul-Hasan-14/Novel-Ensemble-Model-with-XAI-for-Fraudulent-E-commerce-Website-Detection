{
 "cells": [
  {
   "cell_type": "markdown",
   "id": "f0a6ccb3",
   "metadata": {},
   "source": [
    "**Import Necessary Libraries**"
   ]
  },
  {
   "cell_type": "code",
   "execution_count": 1,
   "id": "0bc2a7d4",
   "metadata": {},
   "outputs": [],
   "source": [
    "import pandas as pd\n",
    "from sklearn.metrics import accuracy_score\n",
    "from sklearn.ensemble import RandomForestClassifier, GradientBoostingClassifier, AdaBoostClassifier, VotingClassifier"
   ]
  },
  {
   "cell_type": "markdown",
   "id": "60c6aa40",
   "metadata": {},
   "source": [
    "**Load and Read Train and Unseen Data**"
   ]
  },
  {
   "cell_type": "code",
   "execution_count": 2,
   "id": "3ade90bb",
   "metadata": {},
   "outputs": [],
   "source": [
    "path1 = \"C:/Users/shakib/Downloads/Train Data.csv\"\n",
    "train_data = pd.read_csv(path1)\n",
    "\n",
    "path2 = \"C:/Users/shakib/Downloads/Unseen Data.csv\"\n",
    "unseen_data = pd.read_csv(path2)"
   ]
  },
  {
   "cell_type": "markdown",
   "id": "df2c8c68",
   "metadata": {},
   "source": [
    "**Extract Label and Features**"
   ]
  },
  {
   "cell_type": "code",
   "execution_count": 3,
   "id": "50b11b89",
   "metadata": {},
   "outputs": [],
   "source": [
    "X_train = train_data.drop(columns=['Label']).values\n",
    "y_train = train_data['Label'].values\n",
    "\n",
    "X_unseen = unseen_data.drop(columns=['Label']).values\n",
    "y_unseen = unseen_data['Label'].values"
   ]
  },
  {
   "cell_type": "markdown",
   "id": "6dc320aa",
   "metadata": {},
   "source": [
    "**Define Ensemble Models**"
   ]
  },
  {
   "cell_type": "code",
   "execution_count": 4,
   "id": "0d5d2413",
   "metadata": {},
   "outputs": [],
   "source": [
    "models = {\n",
    "    'Random Forest': RandomForestClassifier(n_estimators=100, random_state=4),\n",
    "    'Gradient Boosting': GradientBoostingClassifier(n_estimators=100, random_state=4),\n",
    "    'AdaBoost': AdaBoostClassifier(n_estimators=100, random_state=4),\n",
    "    'Voting Classifier': VotingClassifier(\n",
    "        estimators=[\n",
    "            ('rf', RandomForestClassifier(n_estimators=100, random_state=4)),\n",
    "            ('gb', GradientBoostingClassifier(n_estimators=100, random_state=4)),\n",
    "            ('ada', AdaBoostClassifier(n_estimators=100, random_state=4))\n",
    "        ],\n",
    "        voting='soft'\n",
    "    )\n",
    "}\n",
    "\n",
    "for model_name, model in models.items():\n",
    "    model.fit(X_train, y_train)"
   ]
  },
  {
   "cell_type": "markdown",
   "id": "94e1618e",
   "metadata": {},
   "source": [
    "**Train Ensemble Models**"
   ]
  },
  {
   "cell_type": "code",
   "execution_count": 5,
   "id": "8c1b2732",
   "metadata": {},
   "outputs": [],
   "source": [
    "for model_name, model in models.items():\n",
    "    model.fit(X_train, y_train)"
   ]
  },
  {
   "cell_type": "markdown",
   "id": "8cc4816a",
   "metadata": {},
   "source": [
    "**Evaluate Train and Unseen Data Accuracies**"
   ]
  },
  {
   "cell_type": "code",
   "execution_count": 6,
   "id": "d4abfba0",
   "metadata": {},
   "outputs": [
    {
     "data": {
      "text/html": [
       "<div>\n",
       "<style scoped>\n",
       "    .dataframe tbody tr th:only-of-type {\n",
       "        vertical-align: middle;\n",
       "    }\n",
       "\n",
       "    .dataframe tbody tr th {\n",
       "        vertical-align: top;\n",
       "    }\n",
       "\n",
       "    .dataframe thead th {\n",
       "        text-align: right;\n",
       "    }\n",
       "</style>\n",
       "<table border=\"1\" class=\"dataframe\">\n",
       "  <thead>\n",
       "    <tr style=\"text-align: right;\">\n",
       "      <th></th>\n",
       "      <th>Model</th>\n",
       "      <th>Train Data Accuracy</th>\n",
       "      <th>Unseen Data Accuracy</th>\n",
       "    </tr>\n",
       "  </thead>\n",
       "  <tbody>\n",
       "    <tr>\n",
       "      <th>0</th>\n",
       "      <td>Random Forest</td>\n",
       "      <td>100.00%</td>\n",
       "      <td>91.43%</td>\n",
       "    </tr>\n",
       "    <tr>\n",
       "      <th>1</th>\n",
       "      <td>Gradient Boosting</td>\n",
       "      <td>98.30%</td>\n",
       "      <td>95.00%</td>\n",
       "    </tr>\n",
       "    <tr>\n",
       "      <th>2</th>\n",
       "      <td>AdaBoost</td>\n",
       "      <td>97.30%</td>\n",
       "      <td>92.14%</td>\n",
       "    </tr>\n",
       "    <tr>\n",
       "      <th>3</th>\n",
       "      <td>Voting Classifier</td>\n",
       "      <td>99.60%</td>\n",
       "      <td>94.29%</td>\n",
       "    </tr>\n",
       "  </tbody>\n",
       "</table>\n",
       "</div>"
      ],
      "text/plain": [
       "               Model Train Data Accuracy Unseen Data Accuracy\n",
       "0      Random Forest             100.00%               91.43%\n",
       "1  Gradient Boosting              98.30%               95.00%\n",
       "2           AdaBoost              97.30%               92.14%\n",
       "3  Voting Classifier              99.60%               94.29%"
      ]
     },
     "execution_count": 6,
     "metadata": {},
     "output_type": "execute_result"
    }
   ],
   "source": [
    "results = []\n",
    "\n",
    "for model_name, model in models.items():\n",
    "    # Accuracy on training data\n",
    "    y_train_pred = model.predict(X_train)\n",
    "    train_accuracy = accuracy_score(y_train, y_train_pred)\n",
    "    \n",
    "    # Accuracy on unseen data\n",
    "    y_unseen_pred = model.predict(X_unseen)\n",
    "    unseen_accuracy = accuracy_score(y_unseen, y_unseen_pred)\n",
    "    \n",
    "    # Append results\n",
    "    results.append({\n",
    "        \"Model\": model_name,\n",
    "        \"Train Data Accuracy\": f\"{train_accuracy * 100:.2f}%\",\n",
    "        \"Unseen Data Accuracy\": f\"{unseen_accuracy * 100:.2f}%\"\n",
    "    })\n",
    "\n",
    "df = pd.DataFrame(results)\n",
    "df"
   ]
  }
 ],
 "metadata": {
  "kernelspec": {
   "display_name": "cvpr tf2.4 py3.8",
   "language": "python",
   "name": "cvpr"
  },
  "language_info": {
   "codemirror_mode": {
    "name": "ipython",
    "version": 3
   },
   "file_extension": ".py",
   "mimetype": "text/x-python",
   "name": "python",
   "nbconvert_exporter": "python",
   "pygments_lexer": "ipython3",
   "version": "3.8.15"
  }
 },
 "nbformat": 4,
 "nbformat_minor": 5
}
