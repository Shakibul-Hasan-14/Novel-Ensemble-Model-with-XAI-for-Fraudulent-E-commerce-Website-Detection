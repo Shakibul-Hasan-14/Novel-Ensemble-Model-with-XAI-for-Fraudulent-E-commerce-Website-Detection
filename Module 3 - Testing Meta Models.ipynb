{
 "cells": [
  {
   "cell_type": "markdown",
   "id": "16374fc9",
   "metadata": {},
   "source": [
    "**Import Necessary Libraries**"
   ]
  },
  {
   "cell_type": "code",
   "execution_count": 1,
   "id": "e3b9dfc5",
   "metadata": {},
   "outputs": [],
   "source": [
    "import numpy as np\n",
    "import pandas as pd\n",
    "\n",
    "import torch\n",
    "import torch.nn as nn\n",
    "import torch.optim as optim\n",
    "\n",
    "from sklearn.svm import SVC\n",
    "from sklearn.tree import DecisionTreeClassifier\n",
    "from sklearn.neighbors import KNeighborsClassifier\n",
    "from sklearn.linear_model import LogisticRegression\n",
    "from sklearn.model_selection import KFold, GridSearchCV\n",
    "from sklearn.metrics import accuracy_score, roc_auc_score\n",
    "from sklearn.ensemble import RandomForestClassifier, GradientBoostingClassifier"
   ]
  },
  {
   "cell_type": "markdown",
   "id": "5fc51dca",
   "metadata": {},
   "source": [
    "**Load and Read Train Data**"
   ]
  },
  {
   "cell_type": "code",
   "execution_count": 2,
   "id": "f5b838a0",
   "metadata": {},
   "outputs": [],
   "source": [
    "path = \"C:/Users/shakib/Downloads/Train Data.csv\"\n",
    "train_data = pd.read_csv(path)"
   ]
  },
  {
   "cell_type": "markdown",
   "id": "9eb87320",
   "metadata": {},
   "source": [
    "**1. Extract Label and Features** <br>\n",
    "**2. Convert to Numpy Array**"
   ]
  },
  {
   "cell_type": "code",
   "execution_count": 3,
   "id": "b732c88a",
   "metadata": {},
   "outputs": [],
   "source": [
    "X = train_data.drop(columns=['Label'])\n",
    "y = train_data['Label']\n",
    "\n",
    "X = np.asarray(X)\n",
    "y = np.asarray(y)"
   ]
  },
  {
   "cell_type": "markdown",
   "id": "603675c1",
   "metadata": {},
   "source": [
    "**Define K-Fold Cross-Validation**"
   ]
  },
  {
   "cell_type": "code",
   "execution_count": 4,
   "id": "205093bb",
   "metadata": {},
   "outputs": [],
   "source": [
    "kfold = KFold(n_splits=5, shuffle=True, random_state=4)"
   ]
  },
  {
   "cell_type": "markdown",
   "id": "a37b9159",
   "metadata": {},
   "source": [
    "**Initialize Base Models**"
   ]
  },
  {
   "cell_type": "code",
   "execution_count": 5,
   "id": "e207b034",
   "metadata": {},
   "outputs": [],
   "source": [
    "DT = DecisionTreeClassifier()\n",
    "SVM = SVC(probability=True)\n",
    "\n",
    "class FNN(nn.Module):\n",
    "    def __init__(self, input_dim):\n",
    "        super(FNN, self).__init__()\n",
    "        self.fc1 = nn.Linear(input_dim, 64)\n",
    "        self.dropout1 = nn.Dropout(0.2)\n",
    "        self.fc2 = nn.Linear(64, 32)\n",
    "        self.dropout2 = nn.Dropout(0.1)\n",
    "        self.fc3 = nn.Linear(32, 1)\n",
    "\n",
    "    def forward(self, x):\n",
    "        x = torch.relu(self.fc1(x))\n",
    "        x = self.dropout1(x)\n",
    "        x = torch.relu(self.fc2(x))\n",
    "        x = self.dropout2(x)\n",
    "        x = torch.sigmoid(self.fc3(x))\n",
    "        return x"
   ]
  },
  {
   "cell_type": "markdown",
   "id": "a081f8ae",
   "metadata": {},
   "source": [
    "**Define Hyperparameter Grids for GridSearchCV**"
   ]
  },
  {
   "cell_type": "code",
   "execution_count": 6,
   "id": "b29b8274",
   "metadata": {},
   "outputs": [],
   "source": [
    "dt_param_grid = {\n",
    "    'max_depth': [None, 4, 5, 6],\n",
    "    'min_samples_split': [2, 5, 10]\n",
    "}\n",
    "\n",
    "svm_param_grid = {\n",
    "    'C': [0.1, 1, 10],\n",
    "    'kernel': ['linear', 'rbf']\n",
    "}"
   ]
  },
  {
   "cell_type": "markdown",
   "id": "15e7ac49",
   "metadata": {},
   "source": [
    "**Train and Predict**"
   ]
  },
  {
   "cell_type": "code",
   "execution_count": 7,
   "id": "610dcc19",
   "metadata": {},
   "outputs": [],
   "source": [
    "# Track and extract base model performances and features\n",
    "meta_features = []\n",
    "true_labels = []\n",
    "SVM_scores = []\n",
    "FNN_scores = []\n",
    "DT_scores = []\n",
    "\n",
    "# K-fold cross-validation loop\n",
    "for train_index, test_index in kfold.split(X):\n",
    "    X_train, X_test = X[train_index], X[test_index]\n",
    "    y_train, y_test = y[train_index], y[test_index]\n",
    "\n",
    "    # Train and get predictions from Decision Tree with GridSearchCV\n",
    "    dt_grid_search = GridSearchCV(estimator=DT, param_grid=dt_param_grid, scoring='roc_auc', cv=5, verbose=0, n_jobs=-1)\n",
    "    dt_grid_search.fit(X_train, y_train)\n",
    "    decision_tree_pred = dt_grid_search.predict_proba(X_test)[:, 1]\n",
    "    dt_roc_auc = roc_auc_score(y_test, decision_tree_pred)\n",
    "    DT_scores.append(dt_roc_auc)\n",
    "\n",
    "    # Train and get predictions from SVM with GridSearchCV\n",
    "    svm_grid_search = GridSearchCV(estimator=SVM, param_grid=svm_param_grid, scoring='roc_auc', cv=5, verbose=0, n_jobs=-1)\n",
    "    svm_grid_search.fit(X_train, y_train)\n",
    "    svm_pred = svm_grid_search.predict_proba(X_test)[:, 1]\n",
    "    svm_roc_auc = roc_auc_score(y_test, svm_pred)\n",
    "    SVM_scores.append(svm_roc_auc)\n",
    "\n",
    "    # Train and get predictions from Feedforward Neural Network with early stopping\n",
    "    X_train_tensor = torch.tensor(X_train, dtype=torch.float32)\n",
    "    y_train_tensor = torch.tensor(y_train, dtype=torch.float32).view(-1, 1)\n",
    "    X_test_tensor = torch.tensor(X_test, dtype=torch.float32)\n",
    "\n",
    "    fnn = FNN(input_dim=X.shape[1])\n",
    "    criterion = nn.BCELoss()\n",
    "    optimizer = optim.Adam(fnn.parameters(), lr=0.01)\n",
    "\n",
    "    # Early stopping parameters\n",
    "    early_stop_patience = 10\n",
    "    best_val_loss = float('inf')\n",
    "    patience_counter = 0\n",
    "    best_model_state = None  # Variable to store the best model state\n",
    "\n",
    "    for epoch in range(60):\n",
    "        # Training phase\n",
    "        fnn.train()\n",
    "        optimizer.zero_grad()\n",
    "        outputs = fnn(X_train_tensor)\n",
    "        loss = criterion(outputs, y_train_tensor)\n",
    "        loss.backward()\n",
    "        optimizer.step()\n",
    "\n",
    "        # Calculate validation loss\n",
    "        fnn.eval()\n",
    "        with torch.no_grad():\n",
    "            val_outputs = fnn(X_test_tensor)\n",
    "            val_loss = criterion(val_outputs, torch.tensor(y_test, dtype=torch.float32).view(-1, 1))\n",
    "\n",
    "        # Early stopping check\n",
    "        if val_loss < best_val_loss:\n",
    "            best_val_loss = val_loss\n",
    "            patience_counter = 0  # Reset counter if validation loss improves\n",
    "            best_model_state = fnn.state_dict()  # Save the model state if it improves\n",
    "        else:\n",
    "            patience_counter += 1  # Increment counter if no improvement\n",
    "\n",
    "        if patience_counter >= early_stop_patience:\n",
    "            fnn.load_state_dict(best_model_state)  # Load the best model if early stopped\n",
    "            break\n",
    "\n",
    "    # Make predictions with the trained Feedforward Neural Network model\n",
    "    fnn.eval()\n",
    "    with torch.no_grad():\n",
    "        nn_pred = fnn(X_test_tensor).numpy().flatten()\n",
    "    nn_roc_auc = roc_auc_score(y_test, nn_pred)\n",
    "    FNN_scores.append(nn_roc_auc)\n",
    "\n",
    "    # Aggregate predictions for meta model\n",
    "    meta_features.append(np.column_stack((decision_tree_pred, svm_pred, nn_pred)))\n",
    "    true_labels.append(y_test)"
   ]
  },
  {
   "cell_type": "markdown",
   "id": "034311d4",
   "metadata": {},
   "source": [
    "**Concatenate Meta Features and True Labels**"
   ]
  },
  {
   "cell_type": "code",
   "execution_count": 8,
   "id": "30c658e3",
   "metadata": {},
   "outputs": [],
   "source": [
    "meta_features = np.vstack(meta_features)\n",
    "true_labels = np.concatenate(true_labels)"
   ]
  },
  {
   "cell_type": "markdown",
   "id": "ab8193ca",
   "metadata": {},
   "source": [
    "**Convert to DataFrame for Tabular Display**"
   ]
  },
  {
   "cell_type": "code",
   "execution_count": 9,
   "id": "af085c70",
   "metadata": {},
   "outputs": [
    {
     "data": {
      "text/html": [
       "<div>\n",
       "<style scoped>\n",
       "    .dataframe tbody tr th:only-of-type {\n",
       "        vertical-align: middle;\n",
       "    }\n",
       "\n",
       "    .dataframe tbody tr th {\n",
       "        vertical-align: top;\n",
       "    }\n",
       "\n",
       "    .dataframe thead th {\n",
       "        text-align: right;\n",
       "    }\n",
       "</style>\n",
       "<table border=\"1\" class=\"dataframe\">\n",
       "  <thead>\n",
       "    <tr style=\"text-align: right;\">\n",
       "      <th></th>\n",
       "      <th>Feature 1</th>\n",
       "      <th>Feature 2</th>\n",
       "      <th>Feature 3</th>\n",
       "      <th>True Label</th>\n",
       "    </tr>\n",
       "  </thead>\n",
       "  <tbody>\n",
       "    <tr>\n",
       "      <th>0</th>\n",
       "      <td>0.111111</td>\n",
       "      <td>0.067589</td>\n",
       "      <td>0.039787</td>\n",
       "      <td>1.0</td>\n",
       "    </tr>\n",
       "    <tr>\n",
       "      <th>1</th>\n",
       "      <td>0.008097</td>\n",
       "      <td>0.001885</td>\n",
       "      <td>0.001088</td>\n",
       "      <td>0.0</td>\n",
       "    </tr>\n",
       "    <tr>\n",
       "      <th>2</th>\n",
       "      <td>1.000000</td>\n",
       "      <td>0.975924</td>\n",
       "      <td>0.985845</td>\n",
       "      <td>1.0</td>\n",
       "    </tr>\n",
       "    <tr>\n",
       "      <th>3</th>\n",
       "      <td>0.008097</td>\n",
       "      <td>0.010383</td>\n",
       "      <td>0.003549</td>\n",
       "      <td>0.0</td>\n",
       "    </tr>\n",
       "    <tr>\n",
       "      <th>4</th>\n",
       "      <td>0.008097</td>\n",
       "      <td>0.009111</td>\n",
       "      <td>0.001921</td>\n",
       "      <td>0.0</td>\n",
       "    </tr>\n",
       "  </tbody>\n",
       "</table>\n",
       "</div>"
      ],
      "text/plain": [
       "   Feature 1  Feature 2  Feature 3  True Label\n",
       "0   0.111111   0.067589   0.039787         1.0\n",
       "1   0.008097   0.001885   0.001088         0.0\n",
       "2   1.000000   0.975924   0.985845         1.0\n",
       "3   0.008097   0.010383   0.003549         0.0\n",
       "4   0.008097   0.009111   0.001921         0.0"
      ]
     },
     "execution_count": 9,
     "metadata": {},
     "output_type": "execute_result"
    }
   ],
   "source": [
    "table = pd.DataFrame(meta_features, columns=[\"Feature 1\", \"Feature 2\", \"Feature 3\"])\n",
    "table[\"True Label\"] = true_labels\n",
    "table.head(5)"
   ]
  },
  {
   "cell_type": "markdown",
   "id": "45756b5b",
   "metadata": {},
   "source": [
    "**Initialize Test Meta Models**"
   ]
  },
  {
   "cell_type": "code",
   "execution_count": 10,
   "id": "fc8bf8a0",
   "metadata": {},
   "outputs": [],
   "source": [
    "LR_meta_model = LogisticRegression(C=0.01, solver='liblinear')\n",
    "KNN_meta_model = KNeighborsClassifier(n_neighbors = 10)\n",
    "GB_meta_model = GradientBoostingClassifier(random_state=42)\n",
    "RF_meta_model = RandomForestClassifier(random_state=42)"
   ]
  },
  {
   "cell_type": "markdown",
   "id": "e5f92cfe",
   "metadata": {},
   "source": [
    "**Train Meta Models on Meta Features**"
   ]
  },
  {
   "cell_type": "code",
   "execution_count": 11,
   "id": "09fab9de",
   "metadata": {},
   "outputs": [
    {
     "data": {
      "text/html": [
       "<style>#sk-container-id-1 {color: black;}#sk-container-id-1 pre{padding: 0;}#sk-container-id-1 div.sk-toggleable {background-color: white;}#sk-container-id-1 label.sk-toggleable__label {cursor: pointer;display: block;width: 100%;margin-bottom: 0;padding: 0.3em;box-sizing: border-box;text-align: center;}#sk-container-id-1 label.sk-toggleable__label-arrow:before {content: \"▸\";float: left;margin-right: 0.25em;color: #696969;}#sk-container-id-1 label.sk-toggleable__label-arrow:hover:before {color: black;}#sk-container-id-1 div.sk-estimator:hover label.sk-toggleable__label-arrow:before {color: black;}#sk-container-id-1 div.sk-toggleable__content {max-height: 0;max-width: 0;overflow: hidden;text-align: left;background-color: #f0f8ff;}#sk-container-id-1 div.sk-toggleable__content pre {margin: 0.2em;color: black;border-radius: 0.25em;background-color: #f0f8ff;}#sk-container-id-1 input.sk-toggleable__control:checked~div.sk-toggleable__content {max-height: 200px;max-width: 100%;overflow: auto;}#sk-container-id-1 input.sk-toggleable__control:checked~label.sk-toggleable__label-arrow:before {content: \"▾\";}#sk-container-id-1 div.sk-estimator input.sk-toggleable__control:checked~label.sk-toggleable__label {background-color: #d4ebff;}#sk-container-id-1 div.sk-label input.sk-toggleable__control:checked~label.sk-toggleable__label {background-color: #d4ebff;}#sk-container-id-1 input.sk-hidden--visually {border: 0;clip: rect(1px 1px 1px 1px);clip: rect(1px, 1px, 1px, 1px);height: 1px;margin: -1px;overflow: hidden;padding: 0;position: absolute;width: 1px;}#sk-container-id-1 div.sk-estimator {font-family: monospace;background-color: #f0f8ff;border: 1px dotted black;border-radius: 0.25em;box-sizing: border-box;margin-bottom: 0.5em;}#sk-container-id-1 div.sk-estimator:hover {background-color: #d4ebff;}#sk-container-id-1 div.sk-parallel-item::after {content: \"\";width: 100%;border-bottom: 1px solid gray;flex-grow: 1;}#sk-container-id-1 div.sk-label:hover label.sk-toggleable__label {background-color: #d4ebff;}#sk-container-id-1 div.sk-serial::before {content: \"\";position: absolute;border-left: 1px solid gray;box-sizing: border-box;top: 0;bottom: 0;left: 50%;z-index: 0;}#sk-container-id-1 div.sk-serial {display: flex;flex-direction: column;align-items: center;background-color: white;padding-right: 0.2em;padding-left: 0.2em;position: relative;}#sk-container-id-1 div.sk-item {position: relative;z-index: 1;}#sk-container-id-1 div.sk-parallel {display: flex;align-items: stretch;justify-content: center;background-color: white;position: relative;}#sk-container-id-1 div.sk-item::before, #sk-container-id-1 div.sk-parallel-item::before {content: \"\";position: absolute;border-left: 1px solid gray;box-sizing: border-box;top: 0;bottom: 0;left: 50%;z-index: -1;}#sk-container-id-1 div.sk-parallel-item {display: flex;flex-direction: column;z-index: 1;position: relative;background-color: white;}#sk-container-id-1 div.sk-parallel-item:first-child::after {align-self: flex-end;width: 50%;}#sk-container-id-1 div.sk-parallel-item:last-child::after {align-self: flex-start;width: 50%;}#sk-container-id-1 div.sk-parallel-item:only-child::after {width: 0;}#sk-container-id-1 div.sk-dashed-wrapped {border: 1px dashed gray;margin: 0 0.4em 0.5em 0.4em;box-sizing: border-box;padding-bottom: 0.4em;background-color: white;}#sk-container-id-1 div.sk-label label {font-family: monospace;font-weight: bold;display: inline-block;line-height: 1.2em;}#sk-container-id-1 div.sk-label-container {text-align: center;}#sk-container-id-1 div.sk-container {/* jupyter's `normalize.less` sets `[hidden] { display: none; }` but bootstrap.min.css set `[hidden] { display: none !important; }` so we also need the `!important` here to be able to override the default hidden behavior on the sphinx rendered scikit-learn.org. See: https://github.com/scikit-learn/scikit-learn/issues/21755 */display: inline-block !important;position: relative;}#sk-container-id-1 div.sk-text-repr-fallback {display: none;}</style><div id=\"sk-container-id-1\" class=\"sk-top-container\"><div class=\"sk-text-repr-fallback\"><pre>RandomForestClassifier(random_state=42)</pre><b>In a Jupyter environment, please rerun this cell to show the HTML representation or trust the notebook. <br />On GitHub, the HTML representation is unable to render, please try loading this page with nbviewer.org.</b></div><div class=\"sk-container\" hidden><div class=\"sk-item\"><div class=\"sk-estimator sk-toggleable\"><input class=\"sk-toggleable__control sk-hidden--visually\" id=\"sk-estimator-id-1\" type=\"checkbox\" checked><label for=\"sk-estimator-id-1\" class=\"sk-toggleable__label sk-toggleable__label-arrow\">RandomForestClassifier</label><div class=\"sk-toggleable__content\"><pre>RandomForestClassifier(random_state=42)</pre></div></div></div></div></div>"
      ],
      "text/plain": [
       "RandomForestClassifier(random_state=42)"
      ]
     },
     "execution_count": 11,
     "metadata": {},
     "output_type": "execute_result"
    }
   ],
   "source": [
    "LR_meta_model.fit(meta_features, true_labels)\n",
    "KNN_meta_model.fit(meta_features, true_labels)\n",
    "GB_meta_model.fit(meta_features, true_labels)\n",
    "RF_meta_model.fit(meta_features, true_labels)"
   ]
  },
  {
   "cell_type": "markdown",
   "id": "05276298",
   "metadata": {},
   "source": [
    "**Get Predictions from Meta Models**"
   ]
  },
  {
   "cell_type": "code",
   "execution_count": 12,
   "id": "9f72c257",
   "metadata": {},
   "outputs": [],
   "source": [
    "LR_meta_predictions = LR_meta_model.predict(meta_features)\n",
    "KNN_meta_predictions = KNN_meta_model.predict(meta_features)\n",
    "GB_meta_predictions = GB_meta_model.predict(meta_features)\n",
    "RF_meta_predictions = RF_meta_model.predict(meta_features)"
   ]
  },
  {
   "cell_type": "code",
   "execution_count": 13,
   "id": "d1c7a7e1",
   "metadata": {},
   "outputs": [],
   "source": [
    "# Initialize test meta models\n",
    "LR_meta_model = LogisticRegression(C=0.01, solver='liblinear')\n",
    "KNN_meta_model = KNeighborsClassifier(n_neighbors = 10)\n",
    "GB_meta_model = GradientBoostingClassifier(random_state=42)\n",
    "RF_meta_model = RandomForestClassifier(random_state=42)\n",
    "\n",
    "# Train meta models on meta features\n",
    "LR_meta_model.fit(meta_features, true_labels)\n",
    "KNN_meta_model.fit(meta_features, true_labels)\n",
    "GB_meta_model.fit(meta_features, true_labels)\n",
    "RF_meta_model.fit(meta_features, true_labels)\n",
    "\n",
    "# Get predictions from meta models\n",
    "LR_meta_predictions = LR_meta_model.predict(meta_features)\n",
    "KNN_meta_predictions = KNN_meta_model.predict(meta_features)\n",
    "GB_meta_predictions = GB_meta_model.predict(meta_features)\n",
    "RF_meta_predictions = RF_meta_model.predict(meta_features)\n",
    "\n",
    "# Convert probabilities to binary predictions\n",
    "LR_meta_labels = (LR_meta_predictions >= 0.5).astype(int)\n",
    "KNN_meta_labels = (KNN_meta_predictions >= 0.5).astype(int)\n",
    "GB_meta_labels = (GB_meta_predictions >= 0.5).astype(int)\n",
    "RF_meta_labels = (RF_meta_predictions >= 0.5).astype(int)\n",
    "\n",
    "# Calculate accuracy\n",
    "LR_accuracy = accuracy_score(true_labels, LR_meta_labels)\n",
    "KNN_accuracy = accuracy_score(true_labels, KNN_meta_labels)\n",
    "GB_accuracy = accuracy_score(true_labels, GB_meta_labels)\n",
    "RF_accuracy = accuracy_score(true_labels, RF_meta_labels)"
   ]
  },
  {
   "cell_type": "markdown",
   "id": "317e6e11",
   "metadata": {},
   "source": [
    "**Convert Probabilities to Binary Predictions**"
   ]
  },
  {
   "cell_type": "code",
   "execution_count": 14,
   "id": "71dab396",
   "metadata": {},
   "outputs": [],
   "source": [
    "LR_meta_labels = (LR_meta_predictions >= 0.5).astype(int)\n",
    "KNN_meta_labels = (KNN_meta_predictions >= 0.5).astype(int)\n",
    "GB_meta_labels = (GB_meta_predictions >= 0.5).astype(int)\n",
    "RF_meta_labels = (RF_meta_predictions >= 0.5).astype(int)"
   ]
  },
  {
   "cell_type": "markdown",
   "id": "fd6f4e0d",
   "metadata": {},
   "source": [
    "**Calculate Accuracy**"
   ]
  },
  {
   "cell_type": "code",
   "execution_count": 15,
   "id": "61308be2",
   "metadata": {},
   "outputs": [],
   "source": [
    "LR_accuracy = accuracy_score(true_labels, LR_meta_labels)\n",
    "KNN_accuracy = accuracy_score(true_labels, KNN_meta_labels)\n",
    "GB_accuracy = accuracy_score(true_labels, GB_meta_labels)\n",
    "RF_accuracy = accuracy_score(true_labels, RF_meta_labels)"
   ]
  },
  {
   "cell_type": "markdown",
   "id": "b074972d",
   "metadata": {},
   "source": [
    "**Load and Read Unseen Data**"
   ]
  },
  {
   "cell_type": "code",
   "execution_count": 16,
   "id": "c80cd6e2",
   "metadata": {},
   "outputs": [],
   "source": [
    "path2 = \"C:/Users/shakib/Downloads/Unseen Data.csv\"\n",
    "unseen_data = pd.read_csv(path2)"
   ]
  },
  {
   "cell_type": "markdown",
   "id": "beca3434",
   "metadata": {},
   "source": [
    "**Extract Label and Features from Unseen Data**"
   ]
  },
  {
   "cell_type": "code",
   "execution_count": 17,
   "id": "4f0700ae",
   "metadata": {},
   "outputs": [],
   "source": [
    "X_unseen = unseen_data.drop(columns=['Label']).values \n",
    "true_labels_unseen = unseen_data['Label'].values\n",
    "\n",
    "# For Neural Network\n",
    "X_unseen_tensor = torch.tensor(X_unseen, dtype=torch.float32)"
   ]
  },
  {
   "cell_type": "markdown",
   "id": "572e5bba",
   "metadata": {},
   "source": [
    "**Generate Predictions from Trained Base Models on Unseen Data**"
   ]
  },
  {
   "cell_type": "code",
   "execution_count": 18,
   "id": "7b435a37",
   "metadata": {},
   "outputs": [],
   "source": [
    "decision_tree_pred_unseen = dt_grid_search.predict_proba(X_unseen)[:, 1]\n",
    "svm_pred_unseen = svm_grid_search.predict_proba(X_unseen)[:, 1]\n",
    "\n",
    "fnn.eval()\n",
    "with torch.no_grad():\n",
    "    nn_pred_unseen = fnn(X_unseen_tensor).numpy().flatten()"
   ]
  },
  {
   "cell_type": "markdown",
   "id": "4fb1ce64",
   "metadata": {},
   "source": [
    "**Aggregate Predictions for Meta Features**"
   ]
  },
  {
   "cell_type": "code",
   "execution_count": 19,
   "id": "1dca7907",
   "metadata": {},
   "outputs": [],
   "source": [
    "meta_features_unseen = np.column_stack((decision_tree_pred_unseen, svm_pred_unseen, nn_pred_unseen))"
   ]
  },
  {
   "cell_type": "markdown",
   "id": "0346cd1b",
   "metadata": {},
   "source": [
    "**Get Predictions from Meta Models for Unseen Data**"
   ]
  },
  {
   "cell_type": "code",
   "execution_count": 20,
   "id": "7c008682",
   "metadata": {},
   "outputs": [],
   "source": [
    "LR_meta_predictions_unseen = LR_meta_model.predict(meta_features_unseen)\n",
    "KNN_meta_predictions_unseen = KNN_meta_model.predict(meta_features_unseen)\n",
    "GB_meta_predictions_unseen = GB_meta_model.predict(meta_features_unseen)\n",
    "RF_meta_predictions_unseen = RF_meta_model.predict(meta_features_unseen)"
   ]
  },
  {
   "cell_type": "markdown",
   "id": "a88b91a6",
   "metadata": {},
   "source": [
    "**Convert Probabilities to Binary Predictions**"
   ]
  },
  {
   "cell_type": "code",
   "execution_count": 21,
   "id": "684a4476",
   "metadata": {},
   "outputs": [],
   "source": [
    "LR_meta_labels_unseen = (LR_meta_predictions_unseen >= 0.5).astype(int)\n",
    "KNN_meta_labels_unseen = (KNN_meta_predictions_unseen >= 0.5).astype(int)\n",
    "GB_meta_labels_unseen = (GB_meta_predictions_unseen >= 0.5).astype(int)\n",
    "RF_meta_labels_unseen = (RF_meta_predictions_unseen >= 0.5).astype(int)"
   ]
  },
  {
   "cell_type": "markdown",
   "id": "3e538eb6",
   "metadata": {},
   "source": [
    "**Calculate Accuracy for Unseen Data**"
   ]
  },
  {
   "cell_type": "code",
   "execution_count": 22,
   "id": "df713a38",
   "metadata": {},
   "outputs": [],
   "source": [
    "LR_accuracy_unseen = accuracy_score(true_labels_unseen, LR_meta_labels_unseen)\n",
    "KNN_accuracy_unseen = accuracy_score(true_labels_unseen, KNN_meta_labels_unseen)\n",
    "GB_accuracy_unseen = accuracy_score(true_labels_unseen, GB_meta_labels_unseen)\n",
    "RF_accuracy_unseen = accuracy_score(true_labels_unseen, RF_meta_labels_unseen)"
   ]
  },
  {
   "cell_type": "markdown",
   "id": "5741e309",
   "metadata": {},
   "source": [
    "**Results Table**"
   ]
  },
  {
   "cell_type": "code",
   "execution_count": 23,
   "id": "ee164d6a",
   "metadata": {},
   "outputs": [
    {
     "data": {
      "text/html": [
       "<div>\n",
       "<style scoped>\n",
       "    .dataframe tbody tr th:only-of-type {\n",
       "        vertical-align: middle;\n",
       "    }\n",
       "\n",
       "    .dataframe tbody tr th {\n",
       "        vertical-align: top;\n",
       "    }\n",
       "\n",
       "    .dataframe thead th {\n",
       "        text-align: right;\n",
       "    }\n",
       "</style>\n",
       "<table border=\"1\" class=\"dataframe\">\n",
       "  <thead>\n",
       "    <tr style=\"text-align: right;\">\n",
       "      <th></th>\n",
       "      <th>Meta Models</th>\n",
       "      <th>Train Data Accuracy</th>\n",
       "      <th>Unseen Data Accuracy</th>\n",
       "    </tr>\n",
       "  </thead>\n",
       "  <tbody>\n",
       "    <tr>\n",
       "      <th>0</th>\n",
       "      <td>Logistic Regression</td>\n",
       "      <td>92.80%</td>\n",
       "      <td>92.14%</td>\n",
       "    </tr>\n",
       "    <tr>\n",
       "      <th>1</th>\n",
       "      <td>K-Nearest Neighbors</td>\n",
       "      <td>93.90%</td>\n",
       "      <td>88.57%</td>\n",
       "    </tr>\n",
       "    <tr>\n",
       "      <th>2</th>\n",
       "      <td>Gradient Boost</td>\n",
       "      <td>98.40%</td>\n",
       "      <td>91.43%</td>\n",
       "    </tr>\n",
       "    <tr>\n",
       "      <th>3</th>\n",
       "      <td>Random Forest</td>\n",
       "      <td>100.00%</td>\n",
       "      <td>91.43%</td>\n",
       "    </tr>\n",
       "  </tbody>\n",
       "</table>\n",
       "</div>"
      ],
      "text/plain": [
       "           Meta Models Train Data Accuracy Unseen Data Accuracy\n",
       "0  Logistic Regression              92.80%               92.14%\n",
       "1  K-Nearest Neighbors              93.90%               88.57%\n",
       "2       Gradient Boost              98.40%               91.43%\n",
       "3        Random Forest             100.00%               91.43%"
      ]
     },
     "execution_count": 23,
     "metadata": {},
     "output_type": "execute_result"
    }
   ],
   "source": [
    "data = {\n",
    "    'Meta Models': [\n",
    "        'Logistic Regression', \n",
    "        'K-Nearest Neighbors', \n",
    "        'Gradient Boost',\n",
    "        'Random Forest'\n",
    "    ],\n",
    "    'Train Data Accuracy': [\n",
    "        f\"{LR_accuracy * 100:.2f}%\", \n",
    "        f\"{KNN_accuracy * 100:.2f}%\", \n",
    "        f\"{GB_accuracy * 100:.2f}%\",\n",
    "        f\"{RF_accuracy * 100:.2f}%\"\n",
    "    ],\n",
    "    'Unseen Data Accuracy': [\n",
    "        f\"{LR_accuracy_unseen * 100:.2f}%\", \n",
    "        f\"{KNN_accuracy_unseen * 100:.2f}%\", \n",
    "        f\"{GB_accuracy_unseen * 100:.2f}%\",\n",
    "        f\"{RF_accuracy_unseen * 100:.2f}%\"\n",
    "    ]\n",
    "}\n",
    "\n",
    "df = pd.DataFrame(data)\n",
    "df"
   ]
  }
 ],
 "metadata": {
  "celltoolbar": "Raw Cell Format",
  "kernelspec": {
   "display_name": "cvpr tf2.4 py3.8",
   "language": "python",
   "name": "cvpr"
  },
  "language_info": {
   "codemirror_mode": {
    "name": "ipython",
    "version": 3
   },
   "file_extension": ".py",
   "mimetype": "text/x-python",
   "name": "python",
   "nbconvert_exporter": "python",
   "pygments_lexer": "ipython3",
   "version": "3.8.15"
  }
 },
 "nbformat": 4,
 "nbformat_minor": 5
}
